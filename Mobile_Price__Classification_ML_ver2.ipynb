{
  "nbformat": 4,
  "nbformat_minor": 0,
  "metadata": {
    "colab": {
      "name": "Mobile_Price__Classification_ML-ver2.ipynb",
      "provenance": []
    },
    "kernelspec": {
      "display_name": "Python 3",
      "language": "python",
      "name": "python3"
    },
    "language_info": {
      "codemirror_mode": {
        "name": "ipython",
        "version": 3
      },
      "file_extension": ".py",
      "mimetype": "text/x-python",
      "name": "python",
      "nbconvert_exporter": "python",
      "pygments_lexer": "ipython3",
      "version": "3.8.5"
    }
  },
  "cells": [
    {
      "cell_type": "markdown",
      "metadata": {
        "id": "_S3cEMHiCg3o"
      },
      "source": [
        "\r\n",
        "**Data source :** [Mobile price Dataset]( https://www.kaggle.com/iabhishekofficial/mobile-price-classification)\r\n",
        "\r\n"
      ]
    },
    {
      "cell_type": "markdown",
      "metadata": {
        "id": "v2LsUr4MDxkQ"
      },
      "source": [
        "# Loading Laibrary"
      ]
    },
    {
      "cell_type": "code",
      "metadata": {
        "id": "LNNwKNUHhOKy"
      },
      "source": [
        "%%capture\n",
        "!pip install category-encoders\n",
        "\n",
        "# Standard Imports\n",
        "import pandas as pd\n",
        "import seaborn as sns\n",
        "import matplotlib.pyplot as plt\n",
        "import numpy as np\n",
        "import category_encoders as ce\n",
        "\n",
        "# Classifiers to Use\n",
        "from sklearn.ensemble import RandomForestClassifier\n",
        "from sklearn.neighbors import KNeighborsClassifier\n",
        "from sklearn.tree import DecisionTreeClassifier\n",
        "\n",
        "# Other needed imports\n",
        "from sklearn.pipeline import make_pipeline\n",
        "from sklearn.preprocessing import StandardScaler\n",
        "from sklearn.ensemble import StackingClassifier\n",
        "from sklearn.impute import SimpleImputer\n",
        "from sklearn.model_selection import cross_val_score\n",
        "from sklearn.model_selection import RepeatedStratifiedKFold\n",
        "from sklearn.model_selection import GridSearchCV\n",
        "\n",
        "import warnings\n",
        "warnings.filterwarnings(\"ignore\")"
      ],
      "execution_count": 1,
      "outputs": []
    },
    {
      "cell_type": "markdown",
      "metadata": {
        "id": "g0PuAbPMD6Id"
      },
      "source": [
        "# Loading Data"
      ]
    },
    {
      "cell_type": "code",
      "metadata": {
        "colab": {
          "base_uri": "https://localhost:8080/",
          "height": 204
        },
        "id": "-yp1dTUChu3x",
        "outputId": "7bcaf2c7-ecd9-4086-f2b3-da3e131e898c"
      },
      "source": [
        "df=pd.read_csv('https://raw.githubusercontent.com/helah20/Dataset/main/train.csv')\n",
        "df.head()"
      ],
      "execution_count": 2,
      "outputs": [
        {
          "output_type": "execute_result",
          "data": {
            "text/html": [
              "<div>\n",
              "<style scoped>\n",
              "    .dataframe tbody tr th:only-of-type {\n",
              "        vertical-align: middle;\n",
              "    }\n",
              "\n",
              "    .dataframe tbody tr th {\n",
              "        vertical-align: top;\n",
              "    }\n",
              "\n",
              "    .dataframe thead th {\n",
              "        text-align: right;\n",
              "    }\n",
              "</style>\n",
              "<table border=\"1\" class=\"dataframe\">\n",
              "  <thead>\n",
              "    <tr style=\"text-align: right;\">\n",
              "      <th></th>\n",
              "      <th>battery_power</th>\n",
              "      <th>blue</th>\n",
              "      <th>clock_speed</th>\n",
              "      <th>dual_sim</th>\n",
              "      <th>fc</th>\n",
              "      <th>four_g</th>\n",
              "      <th>int_memory</th>\n",
              "      <th>m_dep</th>\n",
              "      <th>mobile_wt</th>\n",
              "      <th>n_cores</th>\n",
              "      <th>pc</th>\n",
              "      <th>px_height</th>\n",
              "      <th>px_width</th>\n",
              "      <th>ram</th>\n",
              "      <th>sc_h</th>\n",
              "      <th>sc_w</th>\n",
              "      <th>talk_time</th>\n",
              "      <th>three_g</th>\n",
              "      <th>touch_screen</th>\n",
              "      <th>wifi</th>\n",
              "      <th>price_range</th>\n",
              "    </tr>\n",
              "  </thead>\n",
              "  <tbody>\n",
              "    <tr>\n",
              "      <th>0</th>\n",
              "      <td>842</td>\n",
              "      <td>0</td>\n",
              "      <td>2.2</td>\n",
              "      <td>0</td>\n",
              "      <td>1</td>\n",
              "      <td>0</td>\n",
              "      <td>7</td>\n",
              "      <td>0.6</td>\n",
              "      <td>188</td>\n",
              "      <td>2</td>\n",
              "      <td>2</td>\n",
              "      <td>20</td>\n",
              "      <td>756</td>\n",
              "      <td>2549</td>\n",
              "      <td>9</td>\n",
              "      <td>7</td>\n",
              "      <td>19</td>\n",
              "      <td>0</td>\n",
              "      <td>0</td>\n",
              "      <td>1</td>\n",
              "      <td>1</td>\n",
              "    </tr>\n",
              "    <tr>\n",
              "      <th>1</th>\n",
              "      <td>1021</td>\n",
              "      <td>1</td>\n",
              "      <td>0.5</td>\n",
              "      <td>1</td>\n",
              "      <td>0</td>\n",
              "      <td>1</td>\n",
              "      <td>53</td>\n",
              "      <td>0.7</td>\n",
              "      <td>136</td>\n",
              "      <td>3</td>\n",
              "      <td>6</td>\n",
              "      <td>905</td>\n",
              "      <td>1988</td>\n",
              "      <td>2631</td>\n",
              "      <td>17</td>\n",
              "      <td>3</td>\n",
              "      <td>7</td>\n",
              "      <td>1</td>\n",
              "      <td>1</td>\n",
              "      <td>0</td>\n",
              "      <td>2</td>\n",
              "    </tr>\n",
              "    <tr>\n",
              "      <th>2</th>\n",
              "      <td>563</td>\n",
              "      <td>1</td>\n",
              "      <td>0.5</td>\n",
              "      <td>1</td>\n",
              "      <td>2</td>\n",
              "      <td>1</td>\n",
              "      <td>41</td>\n",
              "      <td>0.9</td>\n",
              "      <td>145</td>\n",
              "      <td>5</td>\n",
              "      <td>6</td>\n",
              "      <td>1263</td>\n",
              "      <td>1716</td>\n",
              "      <td>2603</td>\n",
              "      <td>11</td>\n",
              "      <td>2</td>\n",
              "      <td>9</td>\n",
              "      <td>1</td>\n",
              "      <td>1</td>\n",
              "      <td>0</td>\n",
              "      <td>2</td>\n",
              "    </tr>\n",
              "    <tr>\n",
              "      <th>3</th>\n",
              "      <td>615</td>\n",
              "      <td>1</td>\n",
              "      <td>2.5</td>\n",
              "      <td>0</td>\n",
              "      <td>0</td>\n",
              "      <td>0</td>\n",
              "      <td>10</td>\n",
              "      <td>0.8</td>\n",
              "      <td>131</td>\n",
              "      <td>6</td>\n",
              "      <td>9</td>\n",
              "      <td>1216</td>\n",
              "      <td>1786</td>\n",
              "      <td>2769</td>\n",
              "      <td>16</td>\n",
              "      <td>8</td>\n",
              "      <td>11</td>\n",
              "      <td>1</td>\n",
              "      <td>0</td>\n",
              "      <td>0</td>\n",
              "      <td>2</td>\n",
              "    </tr>\n",
              "    <tr>\n",
              "      <th>4</th>\n",
              "      <td>1821</td>\n",
              "      <td>1</td>\n",
              "      <td>1.2</td>\n",
              "      <td>0</td>\n",
              "      <td>13</td>\n",
              "      <td>1</td>\n",
              "      <td>44</td>\n",
              "      <td>0.6</td>\n",
              "      <td>141</td>\n",
              "      <td>2</td>\n",
              "      <td>14</td>\n",
              "      <td>1208</td>\n",
              "      <td>1212</td>\n",
              "      <td>1411</td>\n",
              "      <td>8</td>\n",
              "      <td>2</td>\n",
              "      <td>15</td>\n",
              "      <td>1</td>\n",
              "      <td>1</td>\n",
              "      <td>0</td>\n",
              "      <td>1</td>\n",
              "    </tr>\n",
              "  </tbody>\n",
              "</table>\n",
              "</div>"
            ],
            "text/plain": [
              "   battery_power  blue  clock_speed  ...  touch_screen  wifi  price_range\n",
              "0            842     0          2.2  ...             0     1            1\n",
              "1           1021     1          0.5  ...             1     0            2\n",
              "2            563     1          0.5  ...             1     0            2\n",
              "3            615     1          2.5  ...             0     0            2\n",
              "4           1821     1          1.2  ...             1     0            1\n",
              "\n",
              "[5 rows x 21 columns]"
            ]
          },
          "metadata": {
            "tags": []
          },
          "execution_count": 2
        }
      ]
    },
    {
      "cell_type": "markdown",
      "metadata": {
        "id": "x1f0HJwEEDOO"
      },
      "source": [
        "# Scalling Data "
      ]
    },
    {
      "cell_type": "code",
      "metadata": {
        "id": "_wABprA4kd1E"
      },
      "source": [
        "# Scale continuous features and replace in the original df\n",
        "cols=['blue','dual_sim','four_g','three_g','touch_screen','wifi','price_range','n_cores']\n",
        "scaler = StandardScaler() #  scalling only fore continuse feature , excloud boolean colums , n_cores one hot encoder\n",
        "scaled_df = pd.DataFrame(scaler.fit_transform(df.drop(df[cols], axis=1)))\n"
      ],
      "execution_count": 3,
      "outputs": []
    },
    {
      "cell_type": "markdown",
      "metadata": {
        "id": "pQgcX-6EEaHn"
      },
      "source": [
        "#  Modeling  :"
      ]
    },
    {
      "cell_type": "markdown",
      "metadata": {
        "id": "0XoNscNygG9r"
      },
      "source": [
        "#### define the Models  "
      ]
    },
    {
      "cell_type": "code",
      "metadata": {
        "id": "N6C89g7njZi4"
      },
      "source": [
        "# Create a dictionary holding all Classifiers and preprocessing techniques\n",
        "models = {\n",
        "    \"rf\": make_pipeline(ce.OneHotEncoder(), SimpleImputer(strategy=\"median\"),RandomForestClassifier()),\n",
        "    \"knn\": make_pipeline(ce.OneHotEncoder(), SimpleImputer(strategy=\"median\"),KNeighborsClassifier()),\n",
        "    \"dt\": make_pipeline(ce.OneHotEncoder(),SimpleImputer(strategy=\"median\") ,DecisionTreeClassifier())\n",
        "}\n",
        "\n"
      ],
      "execution_count": 4,
      "outputs": []
    },
    {
      "cell_type": "markdown",
      "metadata": {
        "id": "fCIzStjUg4Jb"
      },
      "source": [
        "#### define cross validatition function to evaluate our models"
      ]
    },
    {
      "cell_type": "code",
      "metadata": {
        "id": "Rha-MejVgjui"
      },
      "source": [
        "# evaluate a given model using cross-validation\r\n",
        "def evaluate_model(model, X, y):\r\n",
        "    cv = RepeatedStratifiedKFold(n_splits=5, n_repeats=2, random_state=9000)\r\n",
        "    scores = cross_val_score(model, X, y, scoring='accuracy', cv=cv, n_jobs=-1)\r\n",
        "    return scores\r\n",
        "\r\n"
      ],
      "execution_count": 5,
      "outputs": []
    },
    {
      "cell_type": "markdown",
      "metadata": {
        "id": "q30716_2hFls"
      },
      "source": [
        "#### Split the data "
      ]
    },
    {
      "cell_type": "code",
      "metadata": {
        "id": "suL0v6UZgmdH"
      },
      "source": [
        "# Split data\r\n",
        "X = df.drop(\"price_range\", axis=1)\r\n",
        "y = df[\"price_range\"]\r\n",
        "\r\n"
      ],
      "execution_count": 6,
      "outputs": []
    },
    {
      "cell_type": "markdown",
      "metadata": {
        "id": "e19Ybv9nhR-5"
      },
      "source": [
        "#### define the baseline model"
      ]
    },
    {
      "cell_type": "code",
      "metadata": {
        "colab": {
          "base_uri": "https://localhost:8080/"
        },
        "id": "BxT9uzpggonj",
        "outputId": "253ba30f-f6db-4af6-89a2-00d0621d410b"
      },
      "source": [
        "# Baseline Score\r\n",
        "print(\"Model Baseline\")\r\n",
        "df[\"price_range\"].value_counts(normalize=True)[0]"
      ],
      "execution_count": 8,
      "outputs": [
        {
          "output_type": "stream",
          "text": [
            "Model Baseline\n"
          ],
          "name": "stdout"
        },
        {
          "output_type": "execute_result",
          "data": {
            "text/plain": [
              "0.25"
            ]
          },
          "metadata": {
            "tags": []
          },
          "execution_count": 8
        }
      ]
    },
    {
      "cell_type": "markdown",
      "metadata": {
        "id": "foIt1wgrhdUN"
      },
      "source": [
        "#### applying the models "
      ]
    },
    {
      "cell_type": "code",
      "metadata": {
        "colab": {
          "base_uri": "https://localhost:8080/"
        },
        "id": "F6JtwSiJkSch",
        "outputId": "9bceb2c2-3e71-4e73-e3e9-1c1e219f5b6d"
      },
      "source": [
        "# Evaluate models on their own\n",
        "\n",
        "result_ls = []\n",
        "model_ls = []\n",
        "\n",
        "\n",
        "# Iterate over models dict and evaluate each seprately\n",
        "for key, value in models.items():\n",
        "\n",
        "    # gather scores KFold cross validation scores\n",
        "    score = evaluate_model(value, X, y)\n",
        "    result_ls.append(score) # save results\n",
        "    model_ls.append(key) # save model name\n",
        "    print(f\"Model: {key}, Score: {np.mean(score)}\")"
      ],
      "execution_count": null,
      "outputs": [
        {
          "output_type": "stream",
          "text": [
            "Model: rf, Score: 0.8737499999999999\n",
            "Model: knn, Score: 0.92275\n",
            "Model: dt, Score: 0.8300000000000001\n"
          ],
          "name": "stdout"
        }
      ]
    },
    {
      "cell_type": "markdown",
      "metadata": {
        "id": "DyVyC8s3zYbi"
      },
      "source": [
        "#### comparing Models\r\n",
        "\r\n",
        "Looking at our crossval score boxplots we can see that **KNN** models are performing pretty much **HIGHER**  than others."
      ]
    },
    {
      "cell_type": "code",
      "metadata": {
        "colab": {
          "base_uri": "https://localhost:8080/",
          "height": 523
        },
        "id": "PRG8oBx0soTO",
        "outputId": "7e4d7bdc-8d8e-459f-fb11-88b98e1d4964"
      },
      "source": [
        "plt.style.use(\"seaborn-whitegrid\")\n",
        "plt.figure(figsize=(10,8))\n",
        "plt.boxplot(result_ls, labels=model_ls, showmeans=True )\n",
        "plt.title(\"Cross Val Scores of Each Base Model\",fontsize=18)\n",
        "plt.xlabel(\"Model\",fontsize=18)\n",
        "plt.xticks(fontsize=15)\n",
        "plt.axhline(y=.25, linestyle=\"--\", c=\"r\", label=\"Baseline\")\n",
        "plt.legend()\n",
        "plt.ylabel(\"Accuracy\",fontsize=18);"
      ],
      "execution_count": null,
      "outputs": [
        {
          "output_type": "display_data",
          "data": {
            "image/png": "[encoded data removed]",
            "text/plain": [
              "<Figure size 720x576 with 1 Axes>"
            ]
          },
          "metadata": {
            "tags": []
          }
        }
      ]
    },
    {
      "cell_type": "markdown",
      "metadata": {
        "id": "-mzWwC7b3YtG"
      },
      "source": [
        " #### define stack moodel\r\n",
        " \r\n",
        "to see if we can do better with [ model stacking ](https://scikit-learn.org/stable/modules/generated/sklearn.ensemble.StackingClassifier.html)"
      ]
    },
    {
      "cell_type": "code",
      "metadata": {
        "id": "xjEw5TSJuDZ6"
      },
      "source": [
        "# Stacking Classifier is expecting a list\n",
        "stack_ls = [\n",
        "            (\"rf\", make_pipeline(ce.OneHotEncoder(), SimpleImputer(strategy=\"median\"),RandomForestClassifier())), #  Random forest intead \n",
        "            (\"knn\", make_pipeline(ce.OneHotEncoder(), SimpleImputer(strategy=\"median\"),KNeighborsClassifier())),\n",
        "            (\"dt\", make_pipeline(ce.OneHotEncoder(),SimpleImputer(strategy=\"median\") ,DecisionTreeClassifier()))\n",
        "            ]\n",
        "\n",
        "# Create Stacked Classifier\n",
        "stack_model = StackingClassifier(stack_ls, cv=5)\n",
        "\n",
        "# Add stack_model to models dictionary\n",
        "models[\"stacked\"] = stack_model"
      ],
      "execution_count": null,
      "outputs": []
    },
    {
      "cell_type": "code",
      "metadata": {
        "colab": {
          "base_uri": "https://localhost:8080/"
        },
        "id": "OoSy_vyU5EGE",
        "outputId": "6d285ef4-bc5f-458e-bd83-f2ab139fcbb5"
      },
      "source": [
        "# Evaluate All Models\n",
        "result_ls = []\n",
        "model_ls = []\n",
        "\n",
        "# Iterate over models dict and evaluate each seprately\n",
        "for key, value in models.items():\n",
        "\n",
        "    # gather scores KFold cross validation scores\n",
        "    score = evaluate_model(value, X, y)\n",
        "    result_ls.append(score) # save results\n",
        "    model_ls.append(key) # save model name\n",
        "    print(f\"Model: {key}, Score: {np.mean(score)}\")"
      ],
      "execution_count": null,
      "outputs": [
        {
          "output_type": "stream",
          "text": [
            "Model: rf, Score: 0.88325\n",
            "Model: knn, Score: 0.92275\n",
            "Model: dt, Score: 0.82725\n",
            "Model: stacked, Score: 0.9265000000000001\n"
          ],
          "name": "stdout"
        }
      ]
    },
    {
      "cell_type": "markdown",
      "metadata": {
        "id": "QRltayzh6HE3"
      },
      "source": [
        "#### #### comparing all Models\r\n",
        "\r\n",
        "as we can see here our stacked estimator performed better than all base estimators so we will use the stacked estimator. "
      ]
    },
    {
      "cell_type": "code",
      "metadata": {
        "colab": {
          "base_uri": "https://localhost:8080/",
          "height": 523
        },
        "id": "dWlmWGk85eN9",
        "outputId": "c6ea37d4-b262-444b-ad7e-d4392956f8b8"
      },
      "source": [
        "plt.style.use(\"seaborn-whitegrid\")\n",
        "plt.figure(figsize=(10,8))\n",
        "plt.boxplot(result_ls, labels=model_ls, showmeans=True)\n",
        "plt.xticks(fontsize=15)\n",
        "plt.title(\"Cross Val Scores of Each Base Model and Stacked Model\",fontsize=18)\n",
        "plt.xlabel(\"Model\",fontsize=18)\n",
        "plt.axhline(0.25, linestyle=\"--\", c=\"r\", label=\"Baseline\")\n",
        "plt.legend()\n",
        "plt.ylabel(\"Accuracy\",fontsize=18);"
      ],
      "execution_count": null,
      "outputs": [
        {
          "output_type": "display_data",
          "data": {
            "image/png": "[encoded data removed]",
            "text/plain": [
              "<Figure size 720x576 with 1 Axes>"
            ]
          },
          "metadata": {
            "tags": []
          }
        }
      ]
    },
    {
      "cell_type": "markdown",
      "metadata": {
        "id": "UblQBvvkHsou"
      },
      "source": [
        "# Optimizing stack model\r\n",
        "\r\n",
        " Now let's find the best pram using [grid search](https://scikit-learn.org/stable/modules/generated/sklearn.model_selection.GridSearchCV.html) and fit our model"
      ]
    },
    {
      "cell_type": "markdown",
      "metadata": {
        "id": "gQxMZOJa7AWO"
      },
      "source": [
        "Grid Search"
      ]
    },
    {
      "cell_type": "code",
      "metadata": {
        "id": "9aUR3tPYDhQE"
      },
      "source": [
        "#stack_model.get_params().keys()"
      ],
      "execution_count": null,
      "outputs": []
    },
    {
      "cell_type": "code",
      "metadata": {
        "colab": {
          "base_uri": "https://localhost:8080/"
        },
        "id": "c3oJ_ROT5w9B",
        "outputId": "eaad3453-4d0f-4eda-8c58-0ac2dea51f7d"
      },
      "source": [
        "param_grid = {\n",
        "          \n",
        "    \"rf__randomforestclassifier__min_samples_leaf\": [2,3],          \n",
        "    \"rf__randomforestclassifier__min_samples_split\": [2, 3],  \n",
        "    \"rf__randomforestclassifier__n_estimators\":[300,500],\n",
        "\n",
        "\n",
        "    \"dt__onehotencoder__drop_invariant\": [True, False],\n",
        "    \"dt__simpleimputer__strategy\": [\"mean\", \"median\"],\n",
        "    \n",
        "    \"dt__decisiontreeclassifier__criterion\": [\"gini\", \"entropy\"],\n",
        "    # \"dt__decisiontreeclassifier__splitter\": [\"best\", \"random\"],\n",
        "    \"dt__decisiontreeclassifier__ccp_alpha\": [0.0,0.030],\n",
        "\n",
        "    \"knn__kneighborsclassifier__n_neighbors\": [5,7],\n",
        "    \"knn__kneighborsclassifier__metric\": [\"minkowski\", \"euclidean\"],\n",
        "}\n",
        "\n",
        "grid_model = GridSearchCV(stack_model, param_grid=param_grid, cv=5, scoring=\"accuracy\", n_jobs=-1, verbose=2)\n",
        "grid_model.fit(X,y)\n"
      ],
      "execution_count": null,
      "outputs": [
        {
          "output_type": "stream",
          "text": [
            "Fitting 5 folds for each of 512 candidates, totalling 2560 fits\n"
          ],
          "name": "stdout"
        },
        {
          "output_type": "stream",
          "text": [
            "[Parallel(n_jobs=-1)]: Using backend LokyBackend with 4 concurrent workers.\n",
            "[Parallel(n_jobs=-1)]: Done  33 tasks      | elapsed:  1.9min\n",
            "[Parallel(n_jobs=-1)]: Done 154 tasks      | elapsed:  9.8min\n",
            "[Parallel(n_jobs=-1)]: Done 357 tasks      | elapsed: 23.2min\n",
            "[Parallel(n_jobs=-1)]: Done 640 tasks      | elapsed: 40.8min\n",
            "[Parallel(n_jobs=-1)]: Done 1005 tasks      | elapsed: 64.4min\n",
            "[Parallel(n_jobs=-1)]: Done 1450 tasks      | elapsed: 93.6min\n",
            "[Parallel(n_jobs=-1)]: Done 1977 tasks      | elapsed: 121.5min\n",
            "[Parallel(n_jobs=-1)]: Done 2560 out of 2560 | elapsed: 154.1min finished\n"
          ],
          "name": "stderr"
        },
        {
          "output_type": "execute_result",
          "data": {
            "text/plain": [
              "GridSearchCV(cv=5,\n",
              "             estimator=StackingClassifier(cv=5,\n",
              "                                          estimators=[('rf',\n",
              "                                                       Pipeline(steps=[('onehotencoder',\n",
              "                                                                        OneHotEncoder()),\n",
              "                                                                       ('simpleimputer',\n",
              "                                                                        SimpleImputer(strategy='median')),\n",
              "                                                                       ('randomforestclassifier',\n",
              "                                                                        RandomForestClassifier())])),\n",
              "                                                      ('knn',\n",
              "                                                       Pipeline(steps=[('onehotencoder',\n",
              "                                                                        OneHotEncoder()),\n",
              "                                                                       ('simpleimputer',\n",
              "                                                                        SimpleImputer(strategy='median')),\n",
              "                                                                       ('kneighborsclas...\n",
              "                         'dt__onehotencoder__drop_invariant': [True, False],\n",
              "                         'dt__simpleimputer__strategy': ['mean', 'median'],\n",
              "                         'knn__kneighborsclassifier__metric': ['minkowski',\n",
              "                                                               'euclidean'],\n",
              "                         'knn__kneighborsclassifier__n_neighbors': [5, 7],\n",
              "                         'rf__randomforestclassifier__min_samples_leaf': [2, 3],\n",
              "                         'rf__randomforestclassifier__min_samples_split': [2,\n",
              "                                                                           3],\n",
              "                         'rf__randomforestclassifier__n_estimators': [300,\n",
              "                                                                      500]},\n",
              "             scoring='accuracy', verbose=2)"
            ]
          },
          "metadata": {
            "tags": []
          },
          "execution_count": 10
        }
      ]
    },
    {
      "cell_type": "code",
      "metadata": {
        "id": "OfMQkh3kDz5l"
      },
      "source": [
        "#grid_model.cv_results_"
      ],
      "execution_count": null,
      "outputs": []
    },
    {
      "cell_type": "code",
      "metadata": {
        "id": "8jgSNEcn7ude",
        "outputId": "0a2f5c5c-c3e3-4341-b9ce-32982ca7c785"
      },
      "source": [
        "grid_model.best_score_"
      ],
      "execution_count": null,
      "outputs": [
        {
          "output_type": "execute_result",
          "data": {
            "text/plain": [
              "0.9289999999999999"
            ]
          },
          "metadata": {
            "tags": []
          },
          "execution_count": 46
        }
      ]
    },
    {
      "cell_type": "code",
      "metadata": {
        "id": "sqzYG2jo8bix",
        "outputId": "72910bbe-6546-4441-bd3a-a1705566c0cd"
      },
      "source": [
        "grid_model.best_params_"
      ],
      "execution_count": null,
      "outputs": [
        {
          "output_type": "execute_result",
          "data": {
            "text/plain": [
              "{'dt__decisiontreeclassifier__ccp_alpha': 0.0,\n",
              " 'dt__decisiontreeclassifier__criterion': 'entropy',\n",
              " 'dt__onehotencoder__drop_invariant': False,\n",
              " 'dt__simpleimputer__strategy': 'median',\n",
              " 'knn__kneighborsclassifier__metric': 'minkowski',\n",
              " 'knn__kneighborsclassifier__n_neighbors': 7,\n",
              " 'rf__randomforestclassifier__min_samples_leaf': 3,\n",
              " 'rf__randomforestclassifier__min_samples_split': 2,\n",
              " 'rf__randomforestclassifier__n_estimators': 500}"
            ]
          },
          "metadata": {
            "tags": []
          },
          "execution_count": 34
        }
      ]
    },
    {
      "cell_type": "code",
      "metadata": {
        "id": "Nee5T9LZfRVq"
      },
      "source": [
        "# Pull out best model CV results to plot alongside all models tested\n",
        "grid_df = pd.DataFrame(grid_model.cv_results_)\n",
        "grid_cv_score_best = grid_df[grid_df[\"rank_test_score\"]==1].loc[:,\"split0_test_score\":\"split4_test_score\"] .T[237].values"
      ],
      "execution_count": null,
      "outputs": []
    },
    {
      "cell_type": "code",
      "metadata": {
        "id": "k1fvmBZ1ATSH",
        "outputId": "4b26e91c-5889-4d2a-d0b0-688d8597a827"
      },
      "source": [
        "#grid_cv_score_best  #  just to know the value of T[] on the above code;  T represent the best param estimatore (aproove it)"
      ],
      "execution_count": null,
      "outputs": [
        {
          "output_type": "execute_result",
          "data": {
            "text/html": [
              "<div>\n",
              "<style scoped>\n",
              "    .dataframe tbody tr th:only-of-type {\n",
              "        vertical-align: middle;\n",
              "    }\n",
              "\n",
              "    .dataframe tbody tr th {\n",
              "        vertical-align: top;\n",
              "    }\n",
              "\n",
              "    .dataframe thead th {\n",
              "        text-align: right;\n",
              "    }\n",
              "</style>\n",
              "<table border=\"1\" class=\"dataframe\">\n",
              "  <thead>\n",
              "    <tr style=\"text-align: right;\">\n",
              "      <th></th>\n",
              "      <th>split0_test_score</th>\n",
              "      <th>split1_test_score</th>\n",
              "      <th>split2_test_score</th>\n",
              "      <th>split3_test_score</th>\n",
              "      <th>split4_test_score</th>\n",
              "    </tr>\n",
              "  </thead>\n",
              "  <tbody>\n",
              "    <tr>\n",
              "      <th>237</th>\n",
              "      <td>0.9275</td>\n",
              "      <td>0.9375</td>\n",
              "      <td>0.9325</td>\n",
              "      <td>0.93</td>\n",
              "      <td>0.9175</td>\n",
              "    </tr>\n",
              "  </tbody>\n",
              "</table>\n",
              "</div>"
            ],
            "text/plain": [
              "     split0_test_score  split1_test_score  split2_test_score  \\\n",
              "237             0.9275             0.9375             0.9325   \n",
              "\n",
              "     split3_test_score  split4_test_score  \n",
              "237               0.93             0.9175  "
            ]
          },
          "metadata": {
            "tags": []
          },
          "execution_count": 15
        }
      ]
    },
    {
      "cell_type": "code",
      "metadata": {
        "id": "gRpczJaOcqMX",
        "outputId": "54232a78-f6ce-438d-f654-0551a1ff3023"
      },
      "source": [
        "grid_cv_score_best "
      ],
      "execution_count": null,
      "outputs": [
        {
          "output_type": "execute_result",
          "data": {
            "text/plain": [
              "array([0.9275, 0.9375, 0.9325, 0.93  , 0.9175])"
            ]
          },
          "metadata": {
            "tags": []
          },
          "execution_count": 39
        }
      ]
    },
    {
      "cell_type": "code",
      "metadata": {
        "id": "gcUz3maJfRVr"
      },
      "source": [
        "# Add results to running list of other model scores\n",
        "result_ls.append(grid_cv_score_best)\n",
        "model_ls.append(\"grid\")"
      ],
      "execution_count": null,
      "outputs": []
    },
    {
      "cell_type": "code",
      "metadata": {
        "id": "1k2hZpYtcqMZ",
        "outputId": "bd96301c-2fe5-49af-8159-8232bb8e0ac3"
      },
      "source": [
        "model_ls # make sure that we have only one grid"
      ],
      "execution_count": null,
      "outputs": [
        {
          "output_type": "execute_result",
          "data": {
            "text/plain": [
              "['rf', 'knn', 'dt', 'stacked', 'grid']"
            ]
          },
          "metadata": {
            "tags": []
          },
          "execution_count": 42
        }
      ]
    },
    {
      "cell_type": "code",
      "metadata": {
        "id": "9-glzrTjcqMZ",
        "outputId": "7410aa4c-d2a4-4ea1-8db6-689296e18542"
      },
      "source": [
        "result_ls  # make sure we had one array for each model"
      ],
      "execution_count": null,
      "outputs": [
        {
          "output_type": "execute_result",
          "data": {
            "text/plain": [
              "[array([0.8825, 0.9   , 0.8625, 0.895 , 0.88  , 0.9   , 0.895 , 0.8525,\n",
              "        0.8625, 0.9025]),\n",
              " array([0.9425, 0.9025, 0.9225, 0.925 , 0.9175, 0.93  , 0.94  , 0.9025,\n",
              "        0.9125, 0.9325]),\n",
              " array([0.83  , 0.83  , 0.8225, 0.825 , 0.8225, 0.8375, 0.8325, 0.8225,\n",
              "        0.81  , 0.84  ]),\n",
              " array([0.9425, 0.9075, 0.925 , 0.9225, 0.925 , 0.93  , 0.95  , 0.9025,\n",
              "        0.92  , 0.94  ]),\n",
              " array([0.9275, 0.9375, 0.9325, 0.93  , 0.9175])]"
            ]
          },
          "metadata": {
            "tags": []
          },
          "execution_count": 56
        }
      ]
    },
    {
      "cell_type": "code",
      "metadata": {
        "id": "hAgZ0yKFfRVr",
        "outputId": "537fafad-49fd-4e07-846b-383dbee4bc4c"
      },
      "source": [
        "# plot results\n",
        "plt.style.use(\"seaborn-whitegrid\")\n",
        "plt.tight_layout()\n",
        "plt.figure(figsize=(20,20))\n",
        "plt.boxplot(result_ls, labels=model_ls, showmeans=True)\n",
        "plt.title(\"Cross Val Scores of Each Base Model, Stacked Model,  and Best Tuned Stacked Model\", fontsize=\"xx-large\")\n",
        "plt.xlabel(\"Model\", fontsize=\"x-large\")\n",
        "plt.xticks(fontsize=\"large\")\n",
        "plt.yticks(fontsize=\"large\")\n",
        "plt.axhline(0.25, linestyle=\"--\", c=\"r\", label=\"Baseline Model\")\n",
        "# plt.xticks(fontsize=15)\n",
        "plt.legend()\n",
        "plt.ylabel(\"Accuracy\", fontsize=\"x-large\")\n",
        "plt.grid(b=None, axis=\"x\")\n",
        "plt.savefig(\"compare_model.png\", dpi=150);"
      ],
      "execution_count": null,
      "outputs": [
        {
          "output_type": "display_data",
          "data": {
            "text/plain": [
              "<Figure size 432x288 with 0 Axes>"
            ]
          },
          "metadata": {
            "tags": []
          }
        },
        {
          "output_type": "display_data",
          "data": {
            "image/png": "[encoded data removed]",
            "text/plain": [
              "<Figure size 1440x1440 with 1 Axes>"
            ]
          },
          "metadata": {
            "tags": []
          }
        }
      ]
    },
    {
      "cell_type": "code",
      "metadata": {
        "id": "sfH4ag7zcqMa"
      },
      "source": [
        ""
      ],
      "execution_count": null,
      "outputs": []
    }
  ]
}