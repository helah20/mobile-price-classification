{
  "nbformat": 4,
  "nbformat_minor": 0,
  "metadata": {
    "colab": {
      "name": "Mobile_Price_ Classification_ML.ipynb",
      "provenance": []
    },
    "kernelspec": {
      "display_name": "Python 3",
      "language": "python",
      "name": "python3"
    },
    "language_info": {
      "codemirror_mode": {
        "name": "ipython",
        "version": 3
      },
      "file_extension": ".py",
      "mimetype": "text/x-python",
      "name": "python",
      "nbconvert_exporter": "python",
      "pygments_lexer": "ipython3",
      "version": "3.8.2"
    }
  },
  "cells": [
    {
      "cell_type": "markdown",
      "metadata": {
        "id": "_S3cEMHiCg3o"
      },
      "source": [
        "\r\n",
        "**Data source :** [Mobile price Dataset]( https://www.kaggle.com/iabhishekofficial/mobile-price-classification)\r\n",
        "\r\n"
      ]
    },
    {
      "cell_type": "markdown",
      "metadata": {
        "id": "v2LsUr4MDxkQ"
      },
      "source": [
        "# Loading Laibrary"
      ]
    },
    {
      "cell_type": "code",
      "metadata": {
        "id": "LNNwKNUHhOKy"
      },
      "source": [
        "%%capture\n",
        "!pip install category-encoders\n",
        "\n",
        "# Standard Imports\n",
        "import pandas as pd\n",
        "import seaborn as sns\n",
        "import matplotlib.pyplot as plt\n",
        "import numpy as np\n",
        "import category_encoders as ce\n",
        "\n",
        "# Classifiers to Use\n",
        "from sklearn.linear_model import LogisticRegression\n",
        "from sklearn.neighbors import KNeighborsClassifier\n",
        "from sklearn.tree import DecisionTreeClassifier\n",
        "\n",
        "# Other needed imports\n",
        "from sklearn.pipeline import make_pipeline\n",
        "from sklearn.preprocessing import StandardScaler\n",
        "from sklearn.ensemble import StackingClassifier\n",
        "from sklearn.impute import SimpleImputer\n",
        "from sklearn.model_selection import cross_val_score\n",
        "from sklearn.model_selection import RepeatedStratifiedKFold\n",
        "from sklearn.model_selection import GridSearchCV\n",
        "\n",
        "import warnings\n",
        "warnings.filterwarnings(\"ignore\")"
      ],
      "execution_count": null,
      "outputs": []
    },
    {
      "cell_type": "markdown",
      "metadata": {
        "id": "g0PuAbPMD6Id"
      },
      "source": [
        "# Loading Data"
      ]
    },
    {
      "cell_type": "code",
      "metadata": {
        "colab": {
          "base_uri": "https://localhost:8080/",
          "height": 204
        },
        "id": "-yp1dTUChu3x",
        "outputId": "6f7cd217-3401-43d1-a0a4-befddebfdfd9"
      },
      "source": [
        "df=pd.read_csv('https://raw.githubusercontent.com/helah20/Dataset/main/train.csv')\n",
        "dft=pd.read_csv('https://raw.githubusercontent.com/helah20/Dataset/main/test.csv')\n",
        "df.head()"
      ],
      "execution_count": null,
      "outputs": [
        {
          "output_type": "execute_result",
          "data": {
            "text/html": [
              "<div>\n",
              "<style scoped>\n",
              "    .dataframe tbody tr th:only-of-type {\n",
              "        vertical-align: middle;\n",
              "    }\n",
              "\n",
              "    .dataframe tbody tr th {\n",
              "        vertical-align: top;\n",
              "    }\n",
              "\n",
              "    .dataframe thead th {\n",
              "        text-align: right;\n",
              "    }\n",
              "</style>\n",
              "<table border=\"1\" class=\"dataframe\">\n",
              "  <thead>\n",
              "    <tr style=\"text-align: right;\">\n",
              "      <th></th>\n",
              "      <th>battery_power</th>\n",
              "      <th>blue</th>\n",
              "      <th>clock_speed</th>\n",
              "      <th>dual_sim</th>\n",
              "      <th>fc</th>\n",
              "      <th>four_g</th>\n",
              "      <th>int_memory</th>\n",
              "      <th>m_dep</th>\n",
              "      <th>mobile_wt</th>\n",
              "      <th>n_cores</th>\n",
              "      <th>pc</th>\n",
              "      <th>px_height</th>\n",
              "      <th>px_width</th>\n",
              "      <th>ram</th>\n",
              "      <th>sc_h</th>\n",
              "      <th>sc_w</th>\n",
              "      <th>talk_time</th>\n",
              "      <th>three_g</th>\n",
              "      <th>touch_screen</th>\n",
              "      <th>wifi</th>\n",
              "      <th>price_range</th>\n",
              "    </tr>\n",
              "  </thead>\n",
              "  <tbody>\n",
              "    <tr>\n",
              "      <th>0</th>\n",
              "      <td>842</td>\n",
              "      <td>0</td>\n",
              "      <td>2.2</td>\n",
              "      <td>0</td>\n",
              "      <td>1</td>\n",
              "      <td>0</td>\n",
              "      <td>7</td>\n",
              "      <td>0.6</td>\n",
              "      <td>188</td>\n",
              "      <td>2</td>\n",
              "      <td>2</td>\n",
              "      <td>20</td>\n",
              "      <td>756</td>\n",
              "      <td>2549</td>\n",
              "      <td>9</td>\n",
              "      <td>7</td>\n",
              "      <td>19</td>\n",
              "      <td>0</td>\n",
              "      <td>0</td>\n",
              "      <td>1</td>\n",
              "      <td>1</td>\n",
              "    </tr>\n",
              "    <tr>\n",
              "      <th>1</th>\n",
              "      <td>1021</td>\n",
              "      <td>1</td>\n",
              "      <td>0.5</td>\n",
              "      <td>1</td>\n",
              "      <td>0</td>\n",
              "      <td>1</td>\n",
              "      <td>53</td>\n",
              "      <td>0.7</td>\n",
              "      <td>136</td>\n",
              "      <td>3</td>\n",
              "      <td>6</td>\n",
              "      <td>905</td>\n",
              "      <td>1988</td>\n",
              "      <td>2631</td>\n",
              "      <td>17</td>\n",
              "      <td>3</td>\n",
              "      <td>7</td>\n",
              "      <td>1</td>\n",
              "      <td>1</td>\n",
              "      <td>0</td>\n",
              "      <td>2</td>\n",
              "    </tr>\n",
              "    <tr>\n",
              "      <th>2</th>\n",
              "      <td>563</td>\n",
              "      <td>1</td>\n",
              "      <td>0.5</td>\n",
              "      <td>1</td>\n",
              "      <td>2</td>\n",
              "      <td>1</td>\n",
              "      <td>41</td>\n",
              "      <td>0.9</td>\n",
              "      <td>145</td>\n",
              "      <td>5</td>\n",
              "      <td>6</td>\n",
              "      <td>1263</td>\n",
              "      <td>1716</td>\n",
              "      <td>2603</td>\n",
              "      <td>11</td>\n",
              "      <td>2</td>\n",
              "      <td>9</td>\n",
              "      <td>1</td>\n",
              "      <td>1</td>\n",
              "      <td>0</td>\n",
              "      <td>2</td>\n",
              "    </tr>\n",
              "    <tr>\n",
              "      <th>3</th>\n",
              "      <td>615</td>\n",
              "      <td>1</td>\n",
              "      <td>2.5</td>\n",
              "      <td>0</td>\n",
              "      <td>0</td>\n",
              "      <td>0</td>\n",
              "      <td>10</td>\n",
              "      <td>0.8</td>\n",
              "      <td>131</td>\n",
              "      <td>6</td>\n",
              "      <td>9</td>\n",
              "      <td>1216</td>\n",
              "      <td>1786</td>\n",
              "      <td>2769</td>\n",
              "      <td>16</td>\n",
              "      <td>8</td>\n",
              "      <td>11</td>\n",
              "      <td>1</td>\n",
              "      <td>0</td>\n",
              "      <td>0</td>\n",
              "      <td>2</td>\n",
              "    </tr>\n",
              "    <tr>\n",
              "      <th>4</th>\n",
              "      <td>1821</td>\n",
              "      <td>1</td>\n",
              "      <td>1.2</td>\n",
              "      <td>0</td>\n",
              "      <td>13</td>\n",
              "      <td>1</td>\n",
              "      <td>44</td>\n",
              "      <td>0.6</td>\n",
              "      <td>141</td>\n",
              "      <td>2</td>\n",
              "      <td>14</td>\n",
              "      <td>1208</td>\n",
              "      <td>1212</td>\n",
              "      <td>1411</td>\n",
              "      <td>8</td>\n",
              "      <td>2</td>\n",
              "      <td>15</td>\n",
              "      <td>1</td>\n",
              "      <td>1</td>\n",
              "      <td>0</td>\n",
              "      <td>1</td>\n",
              "    </tr>\n",
              "  </tbody>\n",
              "</table>\n",
              "</div>"
            ],
            "text/plain": [
              "   battery_power  blue  clock_speed  ...  touch_screen  wifi  price_range\n",
              "0            842     0          2.2  ...             0     1            1\n",
              "1           1021     1          0.5  ...             1     0            2\n",
              "2            563     1          0.5  ...             1     0            2\n",
              "3            615     1          2.5  ...             0     0            2\n",
              "4           1821     1          1.2  ...             1     0            1\n",
              "\n",
              "[5 rows x 21 columns]"
            ]
          },
          "metadata": {
            "tags": []
          },
          "execution_count": 2
        }
      ]
    },
    {
      "cell_type": "markdown",
      "metadata": {
        "id": "x1f0HJwEEDOO"
      },
      "source": [
        "# Scalling Data "
      ]
    },
    {
      "cell_type": "code",
      "metadata": {
        "id": "_wABprA4kd1E"
      },
      "source": [
        "# Scale continuous features and replace in the original df\n",
        "scaler = StandardScaler()\n",
        "scaled_df = pd.DataFrame(scaler.fit_transform(df))\n"
      ],
      "execution_count": null,
      "outputs": []
    },
    {
      "cell_type": "markdown",
      "metadata": {
        "id": "pQgcX-6EEaHn"
      },
      "source": [
        "#  Modeling  :"
      ]
    },
    {
      "cell_type": "code",
      "metadata": {
        "colab": {
          "base_uri": "https://localhost:8080/"
        },
        "id": "N6C89g7njZi4",
        "outputId": "7c5a478c-cb80-438f-a728-2a126e4887bc"
      },
      "source": [
        "# Create a dictionary holding all Classifiers and preprocessing techniques\n",
        "models = {\n",
        "    \"lr\": make_pipeline(ce.OneHotEncoder(), SimpleImputer(strategy=\"median\"),LogisticRegression()),\n",
        "    \"knn\": make_pipeline(ce.OneHotEncoder(), SimpleImputer(strategy=\"median\"),KNeighborsClassifier()),\n",
        "    \"dt\": make_pipeline(ce.OneHotEncoder(),SimpleImputer(strategy=\"median\") ,DecisionTreeClassifier())\n",
        "}\n",
        "\n",
        "# evaluate a given model using cross-validation\n",
        "def evaluate_model(model, X, y):\n",
        "    cv = RepeatedStratifiedKFold(n_splits=5, n_repeats=2, random_state=9000)\n",
        "    scores = cross_val_score(model, X, y, scoring='accuracy', cv=cv, n_jobs=-1)\n",
        "    return scores\n",
        "\n",
        "# Split data\n",
        "X = df.drop(\"price_range\", axis=1)\n",
        "y = df[\"price_range\"]\n",
        "\n",
        "# Baseline Score\n",
        "print(\"Model Baseline\")\n",
        "df[\"price_range\"].value_counts(normalize=True)[0]"
      ],
      "execution_count": null,
      "outputs": [
        {
          "output_type": "stream",
          "text": [
            "Model Baseline\n"
          ],
          "name": "stdout"
        },
        {
          "output_type": "execute_result",
          "data": {
            "text/plain": [
              "0.25"
            ]
          },
          "metadata": {
            "tags": []
          },
          "execution_count": 4
        }
      ]
    },
    {
      "cell_type": "code",
      "metadata": {
        "colab": {
          "base_uri": "https://localhost:8080/"
        },
        "id": "F6JtwSiJkSch",
        "outputId": "f4407984-1e20-4b1c-9b02-92d9f7af7736"
      },
      "source": [
        "# Evaluate models on their own\n",
        "\n",
        "result_ls = []\n",
        "model_ls = []\n",
        "\n",
        "\n",
        "# Iterate over models dict and evaluate each seprately\n",
        "for key, value in models.items():\n",
        "\n",
        "    # gather scores KFold cross validation scores\n",
        "    score = evaluate_model(value, X, y)\n",
        "    result_ls.append(score) # save results\n",
        "    model_ls.append(key) # save model name\n",
        "    print(f\"Model: {key}, Score: {np.mean(score)}\")"
      ],
      "execution_count": null,
      "outputs": [
        {
          "output_type": "stream",
          "text": [
            "Model: lr, Score: 0.63175\n",
            "Model: knn, Score: 0.92275\n",
            "Model: dt, Score: 0.82975\n"
          ],
          "name": "stdout"
        }
      ]
    },
    {
      "cell_type": "markdown",
      "metadata": {
        "id": "DyVyC8s3zYbi"
      },
      "source": [
        "#### Looking at our crossval score boxplots we can see that **KNN** models are performing pretty much **HIGHER**  than others."
      ]
    },
    {
      "cell_type": "code",
      "metadata": {
        "colab": {
          "base_uri": "https://localhost:8080/",
          "height": 508
        },
        "id": "PRG8oBx0soTO",
        "outputId": "c1a369c7-72a4-4a2b-a1b0-11e412520731"
      },
      "source": [
        "plt.style.use(\"seaborn-whitegrid\")\n",
        "plt.figure(figsize=(10,8))\n",
        "plt.boxplot(result_ls, labels=model_ls, showmeans=True)\n",
        "plt.title(\"Cross Val Scores of Each Base Model\")\n",
        "plt.xlabel(\"Model\")\n",
        "plt.axhline(0.25, linestyle=\"--\", c=\"r\", label=\"Baseline\")\n",
        "plt.legend()\n",
        "plt.ylabel(\"Accuracy\");"
      ],
      "execution_count": null,
      "outputs": [
        {
          "output_type": "display_data",
          "data": {
            "image/png": "[encoded data removed]",
            "text/plain": [
              "<Figure size 720x576 with 1 Axes>"
            ]
          },
          "metadata": {
            "tags": []
          }
        }
      ]
    },
    {
      "cell_type": "markdown",
      "metadata": {
        "id": "-mzWwC7b3YtG"
      },
      "source": [
        " let's see if we can do better with [ model stacking ](https://scikit-learn.org/stable/modules/generated/sklearn.ensemble.StackingClassifier.html)"
      ]
    },
    {
      "cell_type": "code",
      "metadata": {
        "id": "xjEw5TSJuDZ6"
      },
      "source": [
        "# Stacking Classifier is expecting a list\n",
        "stack_ls = [\n",
        "            (\"lr\", make_pipeline(ce.OneHotEncoder(), SimpleImputer(strategy=\"median\"),LogisticRegression())),\n",
        "            (\"knn\", make_pipeline(ce.OneHotEncoder(), SimpleImputer(strategy=\"median\"),KNeighborsClassifier())),\n",
        "            (\"dt\", make_pipeline(ce.OneHotEncoder(),SimpleImputer(strategy=\"median\") ,DecisionTreeClassifier()))\n",
        "            ]\n",
        "\n",
        "# Create Stacked Classifier\n",
        "stack_model = StackingClassifier(stack_ls, cv=5)\n",
        "\n",
        "# Add stack_model to models dictionary\n",
        "models[\"stacked\"] = stack_model"
      ],
      "execution_count": null,
      "outputs": []
    },
    {
      "cell_type": "code",
      "metadata": {
        "colab": {
          "base_uri": "https://localhost:8080/"
        },
        "id": "OoSy_vyU5EGE",
        "outputId": "fe13328c-5a2c-4301-b2e9-2cc087041b40"
      },
      "source": [
        "# Evaluate All Models\n",
        "result_ls = []\n",
        "model_ls = []\n",
        "\n",
        "# Iterate over models dict and evaluate each seprately\n",
        "for key, value in models.items():\n",
        "\n",
        "    # gather scores KFold cross validation scores\n",
        "    score = evaluate_model(value, X, y)\n",
        "    result_ls.append(score) # save results\n",
        "    model_ls.append(key) # save model name\n",
        "    print(f\"Model: {key}, Score: {np.mean(score)}\")"
      ],
      "execution_count": null,
      "outputs": [
        {
          "output_type": "stream",
          "text": [
            "Model: lr, Score: 0.63175\n",
            "Model: knn, Score: 0.92275\n",
            "Model: dt, Score: 0.8237500000000001\n",
            "Model: stacked, Score: 0.9225\n"
          ],
          "name": "stdout"
        }
      ]
    },
    {
      "cell_type": "markdown",
      "metadata": {
        "id": "QRltayzh6HE3"
      },
      "source": [
        "#### as we can see here our stacked estimator performed better than all base estimators so we will use the stacked estimator. "
      ]
    },
    {
      "cell_type": "code",
      "metadata": {
        "colab": {
          "base_uri": "https://localhost:8080/",
          "height": 508
        },
        "id": "dWlmWGk85eN9",
        "outputId": "0cbe1179-d575-4c4c-9f9b-6460e6356388"
      },
      "source": [
        "plt.style.use(\"seaborn-whitegrid\")\n",
        "plt.figure(figsize=(10,8))\n",
        "plt.boxplot(result_ls, labels=model_ls, showmeans=True)\n",
        "plt.title(\"Cross Val Scores of Each Base Model and Stacked Model\")\n",
        "plt.xlabel(\"Model\")\n",
        "plt.axhline(0.25, linestyle=\"--\", c=\"r\", label=\"Baseline\")\n",
        "plt.legend()\n",
        "plt.ylabel(\"Accuracy\");"
      ],
      "execution_count": null,
      "outputs": [
        {
          "output_type": "display_data",
          "data": {
            "image/png": "[encoded data removed]",
            "text/plain": [
              "<Figure size 720x576 with 1 Axes>"
            ]
          },
          "metadata": {
            "tags": []
          }
        }
      ]
    },
    {
      "cell_type": "markdown",
      "metadata": {
        "id": "UblQBvvkHsou"
      },
      "source": [
        "#### Now let's find the best pram using [grid search](https://scikit-learn.org/stable/modules/generated/sklearn.model_selection.GridSearchCV.html) and fit our model"
      ]
    },
    {
      "cell_type": "markdown",
      "metadata": {
        "id": "gQxMZOJa7AWO"
      },
      "source": [
        "Grid Search"
      ]
    },
    {
      "cell_type": "code",
      "metadata": {
        "colab": {
          "base_uri": "https://localhost:8080/"
        },
        "id": "c3oJ_ROT5w9B",
        "outputId": "b9affa1c-5c46-46c9-f6c3-ce5d5d3cc4a2"
      },
      "source": [
        "param_grid = {\n",
        "    \"dt__onehotencoder__drop_invariant\": [True, False],\n",
        "    \"dt__simpleimputer__strategy\": [\"mean\", \"median\"],\n",
        "    \"dt__decisiontreeclassifier__criterion\": [\"gini\", \"entropy\"],\n",
        "    \"dt__decisiontreeclassifier__splitter\": [\"best\", \"random\"],\n",
        "    \"dt__decisiontreeclassifier__max_depth\": [None, 2],\n",
        "    \"dt__decisiontreeclassifier__ccp_alpha\": [0.0,0.030],\n",
        "    \"lr__onehotencoder__drop_invariant\": [True, False],\n",
        "    \"lr__simpleimputer__strategy\": [\"mean\", \"median\"],\n",
        "    \"lr__logisticregression__solver\": [\"lbfgs\", \"liblinear\"],\n",
        "    \"knn__onehotencoder__drop_invariant\": [True, False],\n",
        "    \"knn__kneighborsclassifier__n_neighbors\": [5,10],\n",
        "    \"knn__kneighborsclassifier__metric\": [\"minkowski\", \"euclidean\"],\n",
        "}\n",
        "\n",
        "grid_model = GridSearchCV(stack_model, param_grid=param_grid, cv=5, scoring=\"accuracy\", n_jobs=-1, verbose=2)\n",
        "\n",
        "grid_model.fit(X,y)"
      ],
      "execution_count": null,
      "outputs": [
        {
          "output_type": "stream",
          "text": [
            "Fitting 5 folds for each of 4096 candidates, totalling 20480 fits\n"
          ],
          "name": "stdout"
        },
        {
          "output_type": "stream",
          "text": [
            "[Parallel(n_jobs=-1)]: Using backend LokyBackend with 2 concurrent workers.\n",
            "[Parallel(n_jobs=-1)]: Done  37 tasks      | elapsed:   26.0s\n",
            "[Parallel(n_jobs=-1)]: Done 158 tasks      | elapsed:  1.8min\n",
            "[Parallel(n_jobs=-1)]: Done 361 tasks      | elapsed:  4.1min\n",
            "[Parallel(n_jobs=-1)]: Done 644 tasks      | elapsed:  7.4min\n",
            "[Parallel(n_jobs=-1)]: Done 1009 tasks      | elapsed: 11.7min\n",
            "[Parallel(n_jobs=-1)]: Done 1454 tasks      | elapsed: 16.8min\n",
            "[Parallel(n_jobs=-1)]: Done 1981 tasks      | elapsed: 22.6min\n",
            "[Parallel(n_jobs=-1)]: Done 2588 tasks      | elapsed: 29.3min\n",
            "[Parallel(n_jobs=-1)]: Done 3277 tasks      | elapsed: 36.9min\n",
            "[Parallel(n_jobs=-1)]: Done 4046 tasks      | elapsed: 45.3min\n",
            "[Parallel(n_jobs=-1)]: Done 4897 tasks      | elapsed: 54.7min\n",
            "[Parallel(n_jobs=-1)]: Done 5828 tasks      | elapsed: 65.5min\n",
            "[Parallel(n_jobs=-1)]: Done 6841 tasks      | elapsed: 77.3min\n",
            "[Parallel(n_jobs=-1)]: Done 7934 tasks      | elapsed: 89.4min\n",
            "[Parallel(n_jobs=-1)]: Done 9109 tasks      | elapsed: 102.4min\n",
            "[Parallel(n_jobs=-1)]: Done 10364 tasks      | elapsed: 116.1min\n",
            "[Parallel(n_jobs=-1)]: Done 11701 tasks      | elapsed: 131.5min\n",
            "[Parallel(n_jobs=-1)]: Done 13118 tasks      | elapsed: 147.2min\n",
            "[Parallel(n_jobs=-1)]: Done 14617 tasks      | elapsed: 163.6min\n",
            "[Parallel(n_jobs=-1)]: Done 16196 tasks      | elapsed: 181.7min\n",
            "[Parallel(n_jobs=-1)]: Done 17857 tasks      | elapsed: 200.4min\n",
            "[Parallel(n_jobs=-1)]: Done 19598 tasks      | elapsed: 219.7min\n",
            "[Parallel(n_jobs=-1)]: Done 20480 out of 20480 | elapsed: 229.3min finished\n"
          ],
          "name": "stderr"
        },
        {
          "output_type": "execute_result",
          "data": {
            "text/plain": [
              "GridSearchCV(cv=5, error_score=nan,\n",
              "             estimator=StackingClassifier(cv=5,\n",
              "                                          estimators=[('lr',\n",
              "                                                       Pipeline(memory=None,\n",
              "                                                                steps=[('onehotencoder',\n",
              "                                                                        OneHotEncoder(cols=None,\n",
              "                                                                                      drop_invariant=False,\n",
              "                                                                                      handle_missing='value',\n",
              "                                                                                      handle_unknown='value',\n",
              "                                                                                      return_df=True,\n",
              "                                                                                      use_cat_names=False,\n",
              "                                                                                      verbose=0)),\n",
              "                                                                       ('simpleimputer',\n",
              "                                                                        SimpleImputer(add_indicator=False,\n",
              "                                                                                      copy=True,\n",
              "                                                                                      fill_value=None,\n",
              "                                                                                      miss...\n",
              "                                                               'euclidean'],\n",
              "                         'knn__kneighborsclassifier__n_neighbors': [5, 10],\n",
              "                         'knn__onehotencoder__drop_invariant': [True, False],\n",
              "                         'lr__logisticregression__solver': ['lbfgs',\n",
              "                                                            'liblinear'],\n",
              "                         'lr__onehotencoder__drop_invariant': [True, False],\n",
              "                         'lr__simpleimputer__strategy': ['mean', 'median']},\n",
              "             pre_dispatch='2*n_jobs', refit=True, return_train_score=False,\n",
              "             scoring='accuracy', verbose=2)"
            ]
          },
          "metadata": {
            "tags": []
          },
          "execution_count": 10
        }
      ]
    },
    {
      "cell_type": "code",
      "metadata": {
        "colab": {
          "base_uri": "https://localhost:8080/"
        },
        "id": "8jgSNEcn7ude",
        "outputId": "52af3dd5-9716-49e7-bfc4-91608cae8475"
      },
      "source": [
        "grid_model.best_score_"
      ],
      "execution_count": null,
      "outputs": [
        {
          "output_type": "execute_result",
          "data": {
            "text/plain": [
              "0.945"
            ]
          },
          "metadata": {
            "tags": []
          },
          "execution_count": 11
        }
      ]
    },
    {
      "cell_type": "code",
      "metadata": {
        "id": "sqzYG2jo8bix",
        "colab": {
          "base_uri": "https://localhost:8080/"
        },
        "outputId": "c31329af-5bbb-4853-c759-d53ae7ba6e65"
      },
      "source": [
        "grid_model.best_params_"
      ],
      "execution_count": null,
      "outputs": [
        {
          "output_type": "execute_result",
          "data": {
            "text/plain": [
              "{'dt__decisiontreeclassifier__ccp_alpha': 0.0,\n",
              " 'dt__decisiontreeclassifier__criterion': 'gini',\n",
              " 'dt__decisiontreeclassifier__max_depth': None,\n",
              " 'dt__decisiontreeclassifier__splitter': 'random',\n",
              " 'dt__onehotencoder__drop_invariant': False,\n",
              " 'dt__simpleimputer__strategy': 'median',\n",
              " 'knn__kneighborsclassifier__metric': 'euclidean',\n",
              " 'knn__kneighborsclassifier__n_neighbors': 10,\n",
              " 'knn__onehotencoder__drop_invariant': True,\n",
              " 'lr__logisticregression__solver': 'liblinear',\n",
              " 'lr__onehotencoder__drop_invariant': True,\n",
              " 'lr__simpleimputer__strategy': 'mean'}"
            ]
          },
          "metadata": {
            "tags": []
          },
          "execution_count": 12
        }
      ]
    },
    {
      "cell_type": "code",
      "metadata": {
        "id": "Nee5T9LZfRVq"
      },
      "source": [
        "# Pull out best model CV results to plot alongside all models tested\n",
        "grid_df = pd.DataFrame(grid_model.cv_results_)\n",
        "grid_cv_score_best = grid_df[grid_df[\"rank_test_score\"]==1].loc[:,\"split0_test_score\":\"split4_test_score\"].T[500].values"
      ],
      "execution_count": null,
      "outputs": []
    },
    {
      "cell_type": "code",
      "metadata": {
        "id": "k1fvmBZ1ATSH",
        "colab": {
          "base_uri": "https://localhost:8080/",
          "height": 80
        },
        "outputId": "28a94291-c8fe-4fa4-d47c-7eab63a05944"
      },
      "source": [
        "grid_cv_score_best "
      ],
      "execution_count": null,
      "outputs": [
        {
          "output_type": "execute_result",
          "data": {
            "text/html": [
              "<div>\n",
              "<style scoped>\n",
              "    .dataframe tbody tr th:only-of-type {\n",
              "        vertical-align: middle;\n",
              "    }\n",
              "\n",
              "    .dataframe tbody tr th {\n",
              "        vertical-align: top;\n",
              "    }\n",
              "\n",
              "    .dataframe thead th {\n",
              "        text-align: right;\n",
              "    }\n",
              "</style>\n",
              "<table border=\"1\" class=\"dataframe\">\n",
              "  <thead>\n",
              "    <tr style=\"text-align: right;\">\n",
              "      <th></th>\n",
              "      <th>split0_test_score</th>\n",
              "      <th>split1_test_score</th>\n",
              "      <th>split2_test_score</th>\n",
              "      <th>split3_test_score</th>\n",
              "      <th>split4_test_score</th>\n",
              "    </tr>\n",
              "  </thead>\n",
              "  <tbody>\n",
              "    <tr>\n",
              "      <th>500</th>\n",
              "      <td>0.9525</td>\n",
              "      <td>0.94</td>\n",
              "      <td>0.96</td>\n",
              "      <td>0.9375</td>\n",
              "      <td>0.935</td>\n",
              "    </tr>\n",
              "  </tbody>\n",
              "</table>\n",
              "</div>"
            ],
            "text/plain": [
              "     split0_test_score  split1_test_score  ...  split3_test_score  split4_test_score\n",
              "500             0.9525               0.94  ...             0.9375              0.935\n",
              "\n",
              "[1 rows x 5 columns]"
            ]
          },
          "metadata": {
            "tags": []
          },
          "execution_count": 20
        }
      ]
    },
    {
      "cell_type": "code",
      "metadata": {
        "id": "gcUz3maJfRVr"
      },
      "source": [
        "# Add results to running list of other model scores\n",
        "result_ls.append(grid_cv_score_best)\n",
        "model_ls.append(\"grid\")"
      ],
      "execution_count": null,
      "outputs": []
    },
    {
      "cell_type": "code",
      "metadata": {
        "id": "hAgZ0yKFfRVr",
        "colab": {
          "base_uri": "https://localhost:8080/",
          "height": 534
        },
        "outputId": "3cab8923-eb9a-43bd-c0e4-ed5b763f5954"
      },
      "source": [
        "# plot results\n",
        "plt.style.use(\"seaborn-whitegrid\")\n",
        "plt.tight_layout()\n",
        "plt.figure(figsize=(20,8))\n",
        "plt.boxplot(result_ls, labels=model_ls, showmeans=True)\n",
        "plt.title(\"Cross Val Scores of Each Base Model, Stacked Model,  and Best Tuned Stacked Model\", fontsize=\"xx-large\")\n",
        "plt.xlabel(\"Model\", fontsize=\"x-large\")\n",
        "plt.xticks(fontsize=\"large\")\n",
        "plt.yticks(fontsize=\"large\")\n",
        "plt.axhline(0.25, linestyle=\"--\", c=\"r\", label=\"Baseline Model\")\n",
        "plt.legend()\n",
        "plt.ylabel(\"Accuracy\", fontsize=\"x-large\")\n",
        "plt.grid(b=None, axis=\"x\")\n",
        "plt.savefig(\"compare_model.png\", dpi=150);"
      ],
      "execution_count": null,
      "outputs": [
        {
          "output_type": "display_data",
          "data": {
            "text/plain": [
              "<Figure size 432x288 with 0 Axes>"
            ]
          },
          "metadata": {
            "tags": []
          }
        },
        {
          "output_type": "display_data",
          "data": {
            "image/png": "[encoded data removed]",
            "text/plain": [
              "<Figure size 1440x576 with 1 Axes>"
            ]
          },
          "metadata": {
            "tags": []
          }
        }
      ]
    }
  ]
}